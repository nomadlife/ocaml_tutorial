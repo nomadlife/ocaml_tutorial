{
 "cells": [
  {
   "cell_type": "markdown",
   "metadata": {},
   "source": [
    "ex-1"
   ]
  },
  {
   "cell_type": "code",
   "execution_count": null,
   "metadata": {},
   "outputs": [],
   "source": [
    "type date = { month:int; day:int }\n",
    "\n",
    "module Date = struct\n",
    "  type t = date\n",
    "  let compare = \n",
    "end\n",
    "\n",
    "type calendar = string DateMap.t"
   ]
  },
  {
   "cell_type": "code",
   "execution_count": null,
   "metadata": {},
   "outputs": [],
   "source": [
    "module ListStack = struct\n",
    "  type 'a stack = 'a list\n",
    "  \n",
    "  let empty = []\n",
    "  let is_empty = []\n",
    "  let push x s = x :: s\n",
    "  let peek = function\n",
    "    |[] -> failwith \"Empty\"\n",
    "    |x::_ -> x\n",
    "  let pop = function \n",
    "    | [] -> failwith \"Empty\"\n",
    "    |_::xs -> xs \n",
    "\n",
    "end"
   ]
  },
  {
   "cell_type": "markdown",
   "metadata": {},
   "source": [
    "solve"
   ]
  },
  {
   "cell_type": "code",
   "execution_count": 16,
   "metadata": {},
   "outputs": [
    {
     "ename": "error",
     "evalue": "compile_error",
     "output_type": "error",
     "traceback": [
      "\u001b[32mFile \"[16]\", line 3, characters 37-39:\n\u001b[31mError: Syntax error\n\u001b[36m   2: \u001b[30m(* the input type of Make *)\n\u001b[36m   3: \u001b[30mmodule type OrderedType = sig type t \u001b[4m..\u001b[0m\u001b[30m. end  \n\u001b[36m   4: \u001b[30m(* the output type of Make *)\u001b[0m\n"
     ]
    }
   ],
   "source": [
    "module Map : sig\n",
    "\n",
    "(* the input type of Make *)\n",
    "module type OrderedType = \n",
    "sig type t ... \n",
    "end\n",
    "(* the output type of Make *)\n",
    "module type S = \n",
    "sig type key ... \n",
    "end\n",
    "(* functor that makes a module *)\n",
    "module Make (Ord : OrderedType) : S with type key = Ord.t\n",
    "end"
   ]
  },
  {
   "cell_type": "markdown",
   "metadata": {},
   "source": [
    "Ref"
   ]
  },
  {
   "cell_type": "code",
   "execution_count": 1,
   "metadata": {},
   "outputs": [
    {
     "data": {
      "text/plain": [
       "module type Comparable = sig type t val compare : t -> t -> int end\n"
      ]
     },
     "execution_count": 1,
     "metadata": {},
     "output_type": "execute_result"
    }
   ],
   "source": [
    "module type Comparable = sig\n",
    "  type t\n",
    "  val compare : t -> t -> int\n",
    "end "
   ]
  },
  {
   "cell_type": "code",
   "execution_count": 2,
   "metadata": {},
   "outputs": [
    {
     "data": {
      "text/plain": [
       "module Make_interval :\n",
       "  functor (Endpoint : Comparable) ->\n",
       "    sig\n",
       "      type t = Interval of Endpoint.t * Endpoint.t | Empty\n",
       "      val create : Endpoint.t -> Endpoint.t -> t\n",
       "      val is_empty : t -> bool\n",
       "      val contains : t -> Endpoint.t -> bool\n",
       "      val intersect : t -> t -> t\n",
       "    end\n"
      ]
     },
     "execution_count": 2,
     "metadata": {},
     "output_type": "execute_result"
    }
   ],
   "source": [
    "module Make_interval(Endpoint : Comparable) = struct\n",
    "\n",
    "    type t = | Interval of Endpoint.t * Endpoint.t\n",
    "             | Empty\n",
    "\n",
    "    (** [create low high] creates a new interval from [low] to\n",
    "        [high].  If [low > high], then the interval is empty *)\n",
    "    let create low high =\n",
    "      if Endpoint.compare low high > 0 then Empty\n",
    "      else Interval (low,high)\n",
    "\n",
    "    (** Returns true iff the interval is empty *)\n",
    "    let is_empty = function\n",
    "      | Empty -> true\n",
    "      | Interval _ -> false\n",
    "\n",
    "    (** [contains t x] returns true iff [x] is contained in the\n",
    "        interval [t] *)\n",
    "    let contains t x =\n",
    "      match t with\n",
    "      | Empty -> false\n",
    "      | Interval (l,h) ->\n",
    "        Endpoint.compare x l >= 0 && Endpoint.compare x h <= 0\n",
    "\n",
    "    (** [intersect t1 t2] returns the intersection of the two input\n",
    "        intervals *)\n",
    "    let intersect t1 t2 =\n",
    "      let min x y = if Endpoint.compare x y <= 0 then x else y in\n",
    "      let max x y = if Endpoint.compare x y >= 0 then x else y in\n",
    "      match t1,t2 with\n",
    "      | Empty, _ | _, Empty -> Empty\n",
    "      | Interval (l1,h1), Interval (l2,h2) ->\n",
    "        create (max l1 l2) (min h1 h2)\n",
    "\n",
    "  end "
   ]
  },
  {
   "cell_type": "code",
   "execution_count": 3,
   "metadata": {},
   "outputs": [
    {
     "data": {
      "text/plain": [
       "module Int_interval :\n",
       "  sig\n",
       "    type t = Interval of int * int | Empty\n",
       "    val create : int -> int -> t\n",
       "    val is_empty : t -> bool\n",
       "    val contains : t -> int -> bool\n",
       "    val intersect : t -> t -> t\n",
       "  end\n"
      ]
     },
     "execution_count": 3,
     "metadata": {},
     "output_type": "execute_result"
    }
   ],
   "source": [
    "\tmodule Int_interval =\n",
    "    Make_interval(struct\n",
    "      type t = int\n",
    "      let compare = Pervasives.compare\n",
    "    end)"
   ]
  },
  {
   "cell_type": "code",
   "execution_count": 4,
   "metadata": {},
   "outputs": [
    {
     "data": {
      "text/plain": [
       "module String_interval :\n",
       "  sig\n",
       "    type t =\n",
       "      Make_interval(String).t =\n",
       "        Interval of String.t * String.t\n",
       "      | Empty\n",
       "    val create : String.t -> String.t -> t\n",
       "    val is_empty : t -> bool\n",
       "    val contains : t -> String.t -> bool\n",
       "    val intersect : t -> t -> t\n",
       "  end\n"
      ]
     },
     "execution_count": 4,
     "metadata": {},
     "output_type": "execute_result"
    }
   ],
   "source": [
    "\tmodule String_interval = Make_interval(String)"
   ]
  },
  {
   "cell_type": "code",
   "execution_count": 5,
   "metadata": {},
   "outputs": [
    {
     "data": {
      "text/plain": [
       "module Rev_int_interval :\n",
       "  sig\n",
       "    type t = Interval of int * int | Empty\n",
       "    val create : int -> int -> t\n",
       "    val is_empty : t -> bool\n",
       "    val contains : t -> int -> bool\n",
       "    val intersect : t -> t -> t\n",
       "  end\n"
      ]
     },
     "execution_count": 5,
     "metadata": {},
     "output_type": "execute_result"
    }
   ],
   "source": [
    "\tmodule Rev_int_interval =\n",
    "    Make_interval(struct\n",
    "      type t = int\n",
    "      let compare x y = Pervasives.compare y x\n",
    "    end)\n",
    " \n",
    "\t"
   ]
  },
  {
   "cell_type": "code",
   "execution_count": 13,
   "metadata": {},
   "outputs": [
    {
     "data": {
      "text/plain": [
       "module Int_interval :\n",
       "  sig\n",
       "    type t = Interval of int * int | Empty\n",
       "    val create : int -> int -> t\n",
       "    val is_empty : t -> bool\n",
       "    val contains : t -> int -> bool\n",
       "    val intersect : t -> t -> t\n",
       "  end\n"
      ]
     },
     "execution_count": 13,
     "metadata": {},
     "output_type": "execute_result"
    }
   ],
   "source": [
    "\tmodule Int_interval =\n",
    "    Make_interval(struct\n",
    "      type t = int\n",
    "      let compare = Pervasives.compare\n",
    "    end)"
   ]
  },
  {
   "cell_type": "code",
   "execution_count": 14,
   "metadata": {},
   "outputs": [
    {
     "data": {
      "text/plain": [
       "module String_interval :\n",
       "  sig\n",
       "    type t =\n",
       "      Make_interval(String).t =\n",
       "        Interval of String.t * String.t\n",
       "      | Empty\n",
       "    val create : String.t -> String.t -> t\n",
       "    val is_empty : t -> bool\n",
       "    val contains : t -> String.t -> bool\n",
       "    val intersect : t -> t -> t\n",
       "  end\n"
      ]
     },
     "execution_count": 14,
     "metadata": {},
     "output_type": "execute_result"
    }
   ],
   "source": [
    "\tmodule String_interval = Make_interval(String)"
   ]
  },
  {
   "cell_type": "code",
   "execution_count": 15,
   "metadata": {},
   "outputs": [
    {
     "data": {
      "text/plain": [
       "module Rev_int_interval :\n",
       "  sig\n",
       "    type t = Interval of int * int | Empty\n",
       "    val create : int -> int -> t\n",
       "    val is_empty : t -> bool\n",
       "    val contains : t -> int -> bool\n",
       "    val intersect : t -> t -> t\n",
       "  end\n"
      ]
     },
     "execution_count": 15,
     "metadata": {},
     "output_type": "execute_result"
    }
   ],
   "source": [
    "\n",
    "\tmodule Rev_int_interval =\n",
    "    Make_interval(struct\n",
    "      type t = int\n",
    "      let compare x y = Pervasives.compare y x\n",
    "    end)"
   ]
  },
  {
   "cell_type": "code",
   "execution_count": 12,
   "metadata": {},
   "outputs": [
    {
     "data": {
      "text/plain": [
       "val interval : Int_interval.t = Int_interval.Interval (2, 5)\n"
      ]
     },
     "execution_count": 12,
     "metadata": {},
     "output_type": "execute_result"
    },
    {
     "data": {
      "text/plain": [
       "- : Int_interval.t = Int_interval.Interval (2, 5)\n"
      ]
     },
     "execution_count": 12,
     "metadata": {},
     "output_type": "execute_result"
    }
   ],
   "source": [
    "let interval = Int_interval.create 2 5;;\n",
    "interval;;"
   ]
  },
  {
   "cell_type": "code",
   "execution_count": 7,
   "metadata": {},
   "outputs": [
    {
     "data": {
      "text/plain": [
       "val interval : Int_interval.t = Int_interval.Empty\n"
      ]
     },
     "execution_count": 7,
     "metadata": {},
     "output_type": "execute_result"
    },
    {
     "data": {
      "text/plain": [
       "val rev_interval : Rev_int_interval.t = Rev_int_interval.Interval (4, 3)\n"
      ]
     },
     "execution_count": 7,
     "metadata": {},
     "output_type": "execute_result"
    },
    {
     "data": {
      "text/plain": [
       "val b1 : bool = true\n"
      ]
     },
     "execution_count": 7,
     "metadata": {},
     "output_type": "execute_result"
    },
    {
     "data": {
      "text/plain": [
       "val b2 : bool = false\n"
      ]
     },
     "execution_count": 7,
     "metadata": {},
     "output_type": "execute_result"
    },
    {
     "data": {
      "text/plain": [
       "- : unit = ()\n"
      ]
     },
     "execution_count": 7,
     "metadata": {},
     "output_type": "execute_result"
    }
   ],
   "source": [
    "\tlet interval = Int_interval.create 4 3\n",
    "\tlet rev_interval = Rev_int_interval.create 4 3\n",
    "\t(* let _ = Int_interval.contains rev_interval 3 *)\n",
    "\t(* Importantly, Rev_int_interval.t is a different type than Int_interval.t, *)\n",
    "\t(* even though its physical representation is the same. *)\n",
    "\n",
    "\t(* bypassing create is possible *)\n",
    "\tlet b1 = Int_interval.is_empty (* going through create *) \n",
    "     (Int_interval.create 4 3)\n",
    "\t\n",
    "\tlet b2 = Int_interval.is_empty (* going through create *) \n",
    "     (Int_interval.Interval (4, 3))\n",
    "\t\n",
    "\tlet _ = Printf.printf \"%b %b\\n\" b1 b2\n",
    " \n",
    "\t"
   ]
  }
 ],
 "metadata": {
  "kernelspec": {
   "display_name": "OCaml 4.05.0",
   "language": "OCaml",
   "name": "ocaml-jupyter"
  },
  "language_info": {
   "codemirror_mode": "text/x-ocaml",
   "file_extension": ".ml",
   "mimetype": "text/x-ocaml",
   "name": "OCaml",
   "nbconverter_exporter": null,
   "pygments_lexer": "OCaml",
   "version": "4.05.0"
  }
 },
 "nbformat": 4,
 "nbformat_minor": 2
}
