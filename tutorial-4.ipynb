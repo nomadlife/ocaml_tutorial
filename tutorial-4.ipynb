{
 "cells": [
  {
   "cell_type": "code",
   "execution_count": 25,
   "metadata": {},
   "outputs": [
    {
     "data": {
      "text/plain": [
       "module Calc_v1 : sig val calc : int list -> int end\n"
      ]
     },
     "execution_count": 25,
     "metadata": {},
     "output_type": "execute_result"
    }
   ],
   "source": [
    "(** 1. 정수 덧셈만 가능한 계산기 *)\n",
    "(* 더할 정수들을 리스트로 받는다. *)\n",
    "\n",
    "module Calc_v1 = struct \n",
    "  let calc : int list -> int \n",
    "  = fun num_list -> \n",
    "  let add x y = x + y in\n",
    "  List.fold_left add 0 num_list\n",
    "\n",
    "end"
   ]
  },
  {
   "cell_type": "code",
   "execution_count": 5,
   "metadata": {},
   "outputs": [
    {
     "data": {
      "text/plain": [
       "val calc : int list -> int = <fun>\n"
      ]
     },
     "execution_count": 5,
     "metadata": {},
     "output_type": "execute_result"
    }
   ],
   "source": [
    "\n",
    "  \n",
    "  (* num_list = [i1; i2; ... ; in] 이라고 할 때, (단 i1 ... in 은 정수) *)\n",
    "  (* List.fold_left add 0 [i1; i2; ... ; in] = (add (add (add (add 0 i1) i2) i3) ... in) *)\n",
    "  \n",
    "  (* 혹은 아래와 같이 재귀함수를 이용하여 정의 가능 *)\n",
    "  let rec calc \n",
    "  = fun num_list -> match num_list with\n",
    "  |[] -> 0\n",
    "  | hd::tl -> hd + (calc tl)\n"
   ]
  },
  {
   "cell_type": "code",
   "execution_count": 6,
   "metadata": {},
   "outputs": [
    {
     "data": {
      "text/plain": [
       "- : string list = [\"1\"; \"+\"; \"3\"; \"-\"; \"2\"]\n"
      ]
     },
     "execution_count": 6,
     "metadata": {},
     "output_type": "execute_result"
    }
   ],
   "source": [
    "[\"1\"; \"+\"; \"3\"; \"-\"; \"2\" ];;"
   ]
  },
  {
   "cell_type": "code",
   "execution_count": 24,
   "metadata": {},
   "outputs": [
    {
     "data": {
      "text/plain": [
       "module Calc_v2 : sig val calc : String.t list -> int end\n"
      ]
     },
     "execution_count": 24,
     "metadata": {},
     "output_type": "execute_result"
    }
   ],
   "source": [
    "module Calc_v2 = struct\n",
    "  let rec calc : string list -> int\n",
    "  = fun str_list -> \n",
    "  match str_list with\n",
    "  |[] -> 0\n",
    "  |hd::hd2::tl -> \n",
    "  let v = int_of_string hd2 in\n",
    "  if (String.compare hd2 \"+\") = 0 then\n",
    "    v + (calc tl)\n",
    "  else \n",
    "    v - (calc tl)\n",
    "| hd :: tl -> int_of_string hd \n",
    "end"
   ]
  },
  {
   "cell_type": "code",
   "execution_count": 11,
   "metadata": {},
   "outputs": [
    {
     "data": {
      "text/plain": [
       "- : string list = [\"1\"; \"+\"; \"a\"]\n"
      ]
     },
     "execution_count": 11,
     "metadata": {},
     "output_type": "execute_result"
    }
   ],
   "source": [
    "[\"1\"; \"+\"; \"a\"];;"
   ]
  },
  {
   "cell_type": "markdown",
   "metadata": {},
   "source": [
    "사용자 정의 타입"
   ]
  },
  {
   "cell_type": "code",
   "execution_count": 13,
   "metadata": {},
   "outputs": [
    {
     "data": {
      "text/plain": [
       "type exp = INT of int | ADD | SUB\n"
      ]
     },
     "execution_count": 13,
     "metadata": {},
     "output_type": "execute_result"
    },
    {
     "data": {
      "text/plain": [
       "- : exp list = [INT 1; ADD; INT 3; SUB; INT 2]\n"
      ]
     },
     "execution_count": 13,
     "metadata": {},
     "output_type": "execute_result"
    }
   ],
   "source": [
    "type exp = INT of int | ADD | SUB;;\n",
    "\n",
    "[INT(1);ADD;INT(3);SUB;INT(2)];;\n"
   ]
  },
  {
   "cell_type": "code",
   "execution_count": 19,
   "metadata": {},
   "outputs": [
    {
     "data": {
      "text/plain": [
       "val get_num : exp -> int = <fun>\n"
      ]
     },
     "execution_count": 19,
     "metadata": {},
     "output_type": "execute_result"
    },
    {
     "data": {
      "text/plain": [
       "val calc : exp list -> int = <fun>\n"
      ]
     },
     "execution_count": 19,
     "metadata": {},
     "output_type": "execute_result"
    },
    {
     "data": {
      "text/plain": [
       "- : int = 2\n"
      ]
     },
     "execution_count": 19,
     "metadata": {},
     "output_type": "execute_result"
    }
   ],
   "source": [
    "let get_num : exp -> int\n",
    "= fun e ->\n",
    "match e with \n",
    "| INT n -> n\n",
    "| _ -> failwith \"invaid\"\n",
    "\n",
    "let rec calc : exp list -> int\n",
    "  = fun lst -> \n",
    "  match lst with\n",
    "  |[] -> 0\n",
    "  |hd1::hd2::tl ->\n",
    "  (\n",
    "  match hd2 with \n",
    "    | ADD -> (get_num hd1) + (calc tl)\n",
    "    | SUB -> (get_num hd1) - (calc tl)\n",
    "    | INT n -> failwith \"invalid\"\n",
    "    )\n",
    "    | hd1 :: tl -> (get_num hd1);;\n",
    "    \n",
    "calc [INT(1);ADD;INT(3);SUB;INT(2)];;"
   ]
  },
  {
   "cell_type": "code",
   "execution_count": 20,
   "metadata": {},
   "outputs": [
    {
     "data": {
      "text/plain": [
       "- : int = 4\n"
      ]
     },
     "execution_count": 20,
     "metadata": {},
     "output_type": "execute_result"
    }
   ],
   "source": [
    "(* bug *)\n",
    "calc [INT(1);ADD;INT(3);SUB]"
   ]
  },
  {
   "cell_type": "code",
   "execution_count": null,
   "metadata": {},
   "outputs": [],
   "source": []
  },
  {
   "cell_type": "markdown",
   "metadata": {},
   "source": [
    "3 곱셈추가"
   ]
  },
  {
   "cell_type": "code",
   "execution_count": 23,
   "metadata": {},
   "outputs": [
    {
     "data": {
      "text/plain": [
       "module Calc_v3 :\n",
       "  sig\n",
       "    type exp =\n",
       "        INT of int\n",
       "      | ADD of exp * exp\n",
       "      | SUB of exp * exp\n",
       "      | MUL of exp * exp\n",
       "    val calc : exp -> int\n",
       "  end\n"
      ]
     },
     "execution_count": 23,
     "metadata": {},
     "output_type": "execute_result"
    }
   ],
   "source": [
    "module Calc_v3 = struct \n",
    "  type exp = \n",
    "  |INT of int | ADD of exp * exp | SUB of exp * exp | MUL of exp * exp\n",
    "  \n",
    "  let rec calc: exp -> int \n",
    "  = fun e -> \n",
    "  match e with \n",
    "  | INT n -> n\n",
    "  | ADD (e1, e2) -> (calc e1) + (calc e2)\n",
    "  | SUB (e1, e2) -> (calc e1) - (calc e2)\n",
    "  | MUL (e1, e2) -> (calc e1) * (calc e2)\n",
    "  \n",
    "let _ =\n",
    "  let e = MUL(ADD(INT(1), INT(3)), INT(2)) in\n",
    "  let v = calc e in\n",
    "  Printf.printf \"%d\\n\" v\n",
    "  \n",
    "end\n",
    "  "
   ]
  },
  {
   "cell_type": "markdown",
   "metadata": {},
   "source": [
    "4. 변수추가"
   ]
  },
  {
   "cell_type": "code",
   "execution_count": 34,
   "metadata": {},
   "outputs": [
    {
     "ename": "error",
     "evalue": "compile_error",
     "output_type": "error",
     "traceback": [
      "\u001b[32mFile \"[34]\", line 8, characters 9-10:\n\u001b[31mError: This expression has type exp but an expression was expected of type\n         int\n\u001b[36m   7: \u001b[30m  match e with\n\u001b[36m   8: \u001b[30m  | x -> \u001b[4mx\u001b[0m\u001b[30m\n\u001b[36m   9: \u001b[30m  | INT n -> n\u001b[0m\n"
     ]
    }
   ],
   "source": [
    "module Calc_v4 = struct \n",
    "type exp = \n",
    "|INT of int | ADD of exp * exp | SUB of exp * exp | MUL of exp * exp\n",
    "\n",
    "let rec calc : exp -> int -> int  \n",
    "  = fun e x ->\n",
    "  match e with\n",
    "  | x -> x\n",
    "  | INT n -> n\n",
    "  | ADD (e1, e2) -> (calc e1 x) + (calc e2 x)\n",
    "  | SUB (e1, e2) -> (calc e1 x) - (calc e2 x)\n",
    "  | MUL (e1, e2) -> (calc e1 x) * (calc e2 x)\n",
    "  \n",
    "  let _ =\n",
    "  let e = MUL(ADD(X, INT(3)), INT(2)) in\n",
    "  let v = calc e 3 in\n",
    "  Printf.printf \"%d\\n\" v\n",
    "end"
   ]
  },
  {
   "cell_type": "markdown",
   "metadata": {},
   "source": [
    "5 변수 여러개 추가"
   ]
  },
  {
   "cell_type": "code",
   "execution_count": 38,
   "metadata": {},
   "outputs": [
    {
     "data": {
      "text/plain": [
       "module Calc_v5 :\n",
       "  sig\n",
       "    type exp =\n",
       "        VAR of string\n",
       "      | INT of int\n",
       "      | ADD of exp * exp\n",
       "      | SUB of exp * exp\n",
       "      | MUL of exp * exp\n",
       "    type environment = (string * int) list\n",
       "    val calc : exp -> environment -> int\n",
       "  end\n"
      ]
     },
     "execution_count": 38,
     "metadata": {},
     "output_type": "execute_result"
    }
   ],
   "source": [
    "(** 5. 변수 여러개 추가 *)\n",
    "(* 변수 여러개로 표현되는 식과 각 변수들의 값을 받아서 계산 결과를 내놓는 계산기 *)\n",
    "(* 예: calc (x + y + 3) {x -> 1, y -> 2} = 6 *)\n",
    "module Calc_v5 = struct \n",
    "  type exp = VAR of string |INT of int | ADD of exp * exp | SUB of exp * exp | MUL of exp * exp\n",
    "  \n",
    "\t(* 변수 ID 에서 정수 값으로의 맵핑이 필요. *)\n",
    "\ttype environment = (string * int) list \n",
    "\t(* 예) [(\"x\", 1); (\"y\", 2)]: x와 y에 각각 1과 2 할당.  *)\n",
    "\n",
    "\t(* exp 와 env 를 인자로 받음. *)\n",
    "  let rec calc: exp -> environment -> int \n",
    "  = fun e env -> \n",
    "  match e with \n",
    "  | VAR id -> List.assoc id env\n",
    "  | INT n -> n\n",
    "  | ADD (e1, e2) -> (calc e1 env) + (calc e2 env)\n",
    "  | SUB (e1, e2) -> (calc e1 env) - (calc e2 env)\n",
    "  | MUL (e1, e2) -> (calc e1 env) * (calc e2 env)\n",
    "  \n",
    "\t(* test *)\n",
    "  let _ =\n",
    "  (* *)\n",
    "  \tlet e = MUL(ADD((VAR(\"x\")), INT(3)), VAR(\"y\")) in\n",
    "  \tlet v = calc e [(\"x\", 1); (\"y\", 2)] in\n",
    "  \tPrintf.printf \"%d\\n\" v\n",
    "end"
   ]
  },
  {
   "cell_type": "code",
   "execution_count": 35,
   "metadata": {},
   "outputs": [
    {
     "data": {
      "text/plain": [
       "- : int = 1\n"
      ]
     },
     "execution_count": 35,
     "metadata": {},
     "output_type": "execute_result"
    }
   ],
   "source": [
    "List.assoc \"x\" [(\"x\", 1); (\"y\", 2)];;"
   ]
  },
  {
   "cell_type": "code",
   "execution_count": 36,
   "metadata": {},
   "outputs": [
    {
     "data": {
      "text/plain": [
       "- : int = 0\n"
      ]
     },
     "execution_count": 36,
     "metadata": {},
     "output_type": "execute_result"
    }
   ],
   "source": [
    "List.assoc \"x\" [(\"x\", 0);(\"x\", 1); (\"y\", 2)];;"
   ]
  },
  {
   "cell_type": "markdown",
   "metadata": {},
   "source": [
    "6 let 표현식 추가. \n",
    "변수마다 특정범위의 특정값으로 바인딩"
   ]
  },
  {
   "cell_type": "code",
   "execution_count": 40,
   "metadata": {},
   "outputs": [
    {
     "data": {
      "text/plain": [
       "module Calc_v6 :\n",
       "  sig\n",
       "    type exp =\n",
       "        LET of string * exp * exp\n",
       "      | VAR of string\n",
       "      | INT of int\n",
       "      | ADD of exp * exp\n",
       "      | SUB of exp * exp\n",
       "      | MUL of exp * exp\n",
       "    type environment = (string * int) list\n",
       "    val calc : exp -> environment -> int\n",
       "  end\n"
      ]
     },
     "execution_count": 40,
     "metadata": {},
     "output_type": "execute_result"
    }
   ],
   "source": [
    "(** 6. let 표현식 추가.  *)\n",
    "(* 예: (let x = 2 in x + 1) * (let y = 3 in y + 1) = 12 *)\n",
    "module Calc_v6 = struct \n",
    "  type exp = \n",
    "  | LET of string * exp * exp\n",
    "  | VAR of string |INT of int | ADD of exp * exp | SUB of exp * exp | MUL of exp * exp\n",
    "  \n",
    "\t(* 변수 ID 에서 정수 값으로의 맵핑이 필요. *)\n",
    "\ttype environment = (string * int) list\n",
    "\t(* 예) [(\"x\", 1); (\"y\", 2)]: x와 y에 각각 1과 2 할당.  *)\n",
    "\n",
    "\t(* exp 와 env 를 인자로 받음. *)\n",
    "  let rec calc: exp -> environment -> int \n",
    "  = fun e env -> \n",
    "  match e with\n",
    "  | LET (vid, e1, e2)->\n",
    "  let v = calc e1 env in\n",
    "  let env' = (vid, v) :: env in\n",
    "  (calc e2 env')\n",
    "  | VAR id -> List.assoc id env\n",
    "  | INT n -> n\n",
    "  | ADD (e1, e2) -> (calc e1 env) + (calc e2 env)\n",
    "  | SUB (e1, e2) -> (calc e1 env) - (calc e2 env)\n",
    "  | MUL (e1, e2) -> (calc e1 env) * (calc e2 env)\n",
    "  \n",
    "\t(* test *)\n",
    "  let _ =\n",
    "\t\t(* let x = 3 in let y = 4 in x + y *)\n",
    "  \tlet e = LET(\"x\", INT(3), LET(\"y\", INT(4), ADD(VAR(\"x\"), VAR(\"y\"))))  in\n",
    "  \tlet v = calc e [] in\n",
    "  \tPrintf.printf \"%d\\n\" v;\n",
    "    (* let x = 3 in let x = 4 in x + x *)\n",
    "  \tlet e = LET(\"x\", INT(3), LET(\"x\", INT(4), ADD(VAR(\"x\"), VAR(\"x\"))))  in\n",
    "  \tlet v = calc e [] in\n",
    "  \tPrintf.printf \"%d\\n\" v;\n",
    "end "
   ]
  },
  {
   "cell_type": "markdown",
   "metadata": {},
   "source": [
    "7 "
   ]
  },
  {
   "cell_type": "code",
   "execution_count": 45,
   "metadata": {},
   "outputs": [
    {
     "ename": "error",
     "evalue": "compile_error",
     "output_type": "error",
     "traceback": [
      "\u001b[32mFile \"[45]\", line 24, characters 11-15:\n\u001b[31mError: Syntax error\n\u001b[36m  23: \u001b[30m| EQUAL (e1,e2) ->\n\u001b[36m  24: \u001b[30m  let v1 - \u001b[4mcalc\u001b[0m\u001b[30m e1 env in\n\u001b[36m  25: \u001b[30m  let v2 - calc e2 env in\u001b[0m\n"
     ]
    }
   ],
   "source": [
    "(** 7. 조건문 IF 추가. *)\n",
    "(* 예: let x = 3 in if (x <= 4) then x + 1 else x + 2 *)\n",
    "module Calc_v7 = struct \n",
    "  type exp = \n",
    "  | IF of exp * exp * exp\n",
    "  | LET of string * exp * exp\n",
    "  | VAR of string |INT of int | ADD of exp * exp | SUB of exp * exp | MUL of exp * exp\n",
    "  | BOOL of bool \n",
    "  | EQUAL of exp * exp (* *)\n",
    "  | LESS of exp * exp\n",
    "  | NOT of exp\n",
    "  \n",
    "  \n",
    "\t(* 변수 ID 에서 정수 값으로의 맵핑이 필요. *)\n",
    "\ttype environment = (string * int) list\n",
    "\t(* 예) [(\"x\", 1); (\"y\", 2)]: x와 y에 각각 1과 2 할당.  *)\n",
    "\n",
    "let rec eval_cond : exp -> environment -> bool\n",
    "= fun e env ->\n",
    "match e with\n",
    "| BOOL b -> b\n",
    "| NOT e' -> not (eval_cond e' env)\n",
    "| EQUAL (e1,e2) ->\n",
    "  let v1 - calc e1 env in\n",
    "  let v2 - calc e2 env in\n",
    "  v1 = v2\n",
    "| LESS (e1,e2) ->\n",
    "  let v1 - calc e1 env in\n",
    "  let v2 - calc e2 env in\n",
    "  v1 = v2\n",
    "\n",
    "\t(* exp 와 env 를 인자로 받음. *)\n",
    "  and calc: exp -> environment -> int \n",
    "  = fun e env -> \n",
    "  match e with \n",
    "  | IF(cond, then_branch, else_branch) -> \n",
    "  let b = eval_cond cond in\n",
    "  if (b) then (calc then_branch env) else (calc else_branch env)\n",
    "  | LET (vid, e1, e2)->\n",
    "  let v = calc e1 env in\n",
    "  let env' = (vid, v) :: env in\n",
    "  (calc e2 env')\n",
    "  | VAR id -> List.assoc id env\n",
    "  | INT n -> n\n",
    "  | ADD (e1, e2) -> (calc e1 env) + (calc e2 env)\n",
    "  | SUB (e1, e2) -> (calc e1 env) - (calc e2 env)\n",
    "  | MUL (e1, e2) -> (calc e1 env) * (calc e2 env)\n",
    "  \n",
    "\t\n",
    "\t(* test *)\n",
    "  let _ =\n",
    "\t\t(* let x = 3 in let y = 4 in if (x = y) then 1 else 2 *)\n",
    "  \tlet e = LET(\"x\", INT(3), LET(\"y\", INT(4), IF(EQUAL(VAR(\"x\"), VAR(\"y\")), INT(1), INT(2))))  in\n",
    "  \tlet v = calc e [] in\n",
    "  \tPrintf.printf \"%d\\n\" v;\n",
    "end \t\t"
   ]
  },
  {
   "cell_type": "code",
   "execution_count": 47,
   "metadata": {},
   "outputs": [
    {
     "ename": "error",
     "evalue": "compile_error",
     "output_type": "error",
     "traceback": [
      "\u001b[32mFile \"[47]\", line 24, characters 33-34:\n\u001b[31mError: Syntax error: operator expected.\n\u001b[36m  23: \u001b[30m  |LETF (fic, pid, body, e) ->\n\u001b[36m  24: \u001b[30m  let env' = (fic, fun(pid, body)\u001b[4m)\u001b[0m\u001b[30m::env in\n\u001b[36m  25: \u001b[30m  (calc e env')\u001b[0m\n"
     ]
    }
   ],
   "source": [
    "(** 8. 매개변수 1개인 함수 추가. *)\n",
    "module Calc_v8 = struct \n",
    "  type exp = \n",
    "  | LETF of string * string * exp * exp \n",
    "  | CALL of string * exp \n",
    "  | IF of exp * exp * exp\n",
    "  | LET of string * exp * exp\n",
    "  | VAR of string |INT of int | ADD of exp * exp | SUB of exp * exp | MUL of exp * exp\n",
    "  | BOOL of bool \n",
    "  | EQUAL of exp * exp (* *)\n",
    "  | LESS of exp * exp\n",
    "  | NOT of exp\n",
    "  \n",
    "\t(* 변수 ID 에서 값으로의 맵핑이 필요. *)\n",
    "\ttype value_or_func = Num of int | Func of string * exp   \n",
    "\ttype environment = (string * value_or_func) list\n",
    "\t(* 예) [(\"x\", Num 1); (\"f\", Func (\"a1\", ADD(VAR(\"a1\"), INT(1))))]: x 에 1, f 에 매개변수 a1 함수 몸체 a1 + 1 인 함수 할당 *)\n",
    "\n",
    "\t(* exp 와 env 를 인자로 받음. *)\n",
    "  let rec calc: exp -> environment -> int \n",
    "  = fun e env -> \n",
    "  match e with\n",
    "  |LETF (fic, pid, body, e) ->\n",
    "  let env' = (fic, fun(pid, body))::env in\n",
    "  (calc e env')\n",
    "  |CALL (fid, arg)->\n",
    "  match (Lit.assoc fid env) with\n",
    "| Num _ -> failwith \"safdasfd\"\n",
    "|Func(pid, body) ->\n",
    "calc (LET (pid, arg, body)) env\n",
    "\n",
    ")\n",
    "| IF(cond, then_branch, else_branch) -> \n",
    "  let b = eval_cond cond in\n",
    "  if (b) then (calc then_branch env) else (calc else_branch env)\n",
    "  | LET (vid, e1, e2)->\n",
    "  let v = calc e1 env in\n",
    "  let env' = (vid, Num(v)) :: env in\n",
    "  (calc e2 env')\n",
    "  | VAR id -> \n",
    "  (match (  List.assoc id env ) with\n",
    "  | Num n -> n\n",
    "  | _ -> failwith \"sfsafd\"\n",
    "  )\n",
    "  | INT n -> n\n",
    "  | ADD (e1, e2) -> (calc e1 env) + (calc e2 env)\n",
    "  | SUB (e1, e2) -> (calc e1 env) - (calc e2 env)\n",
    "  | MUL (e1, e2) -> (calc e1 env) * (calc e2 env)\n",
    "  | _ -> failwith \"dsfasfd\"\n",
    "  \n",
    "  and eval_cond : exp -> environment -> bool\n",
    "= fun e env ->\n",
    "match e with\n",
    "| BOOL b -> b\n",
    "| NOT e' -> not (eval_cond e' env)\n",
    "| EQUAL (e1,e2) ->\n",
    "  let v1 - calc e1 env in\n",
    "  let v2 - calc e2 env in\n",
    "  v1 = v2\n",
    "| LESS (e1,e2) ->\n",
    "  let v1 - calc e1 env in\n",
    "  let v2 - calc e2 env in\n",
    "  v1 = v2\n",
    "  \n",
    "\t(* test *)\n",
    "  let _ =\n",
    "\t\t(* let f(a) = if (a <= 10) then f(a + 1) else a in f(2) *)\n",
    "\t\tlet body = IF(LESS(VAR(\"a\"), INT(10)), CALL(\"f\", ADD(VAR(\"a\"), INT(1))), VAR(\"a\")) in\n",
    "  \tlet e = LETF (\"f\", \"a\", body, CALL(\"f\", INT(2)))  in\n",
    "  \tlet v = calc e [] in\n",
    "  \tPrintf.printf \"%d\\n\" v\n",
    "\t\t(* 참고: 현재 구현은 dynamic scope 방식을 따름: 함수 몸체가 함수가 호출 될 때의 환경을 참조하여 실행됨. *)\n",
    "\t\t(* 이에 반해 static scope 방식은 함수 몸체가 함수가 정의될 때의 환경을 참조하여 실행됨.  *)\n",
    "\t\t(* 예) *)\n",
    "\t\t(*   let x = 2 in  *)\n",
    "\t\t(*   let f(a) = x + a in *)\n",
    "\t\t(*   let x = 3 in f(1) *)\n",
    "\t\t(* static(정의될때?) scope 은 3(ocaml), dynamic scop때(호출될때?) 은 4를 계산 *)\n",
    "end "
   ]
  },
  {
   "cell_type": "code",
   "execution_count": null,
   "metadata": {},
   "outputs": [],
   "source": [
    "\t\t(*   let x = 2 in  *)\n",
    "\t\t(*   let f(a) = x + a in *)\n",
    "\t\t(*   let x = 3 in f(1) *)\n",
    "\t\t(* static scope 은 3, dynamic scope 은 4를 계산 *)"
   ]
  },
  {
   "cell_type": "code",
   "execution_count": null,
   "metadata": {},
   "outputs": [],
   "source": [
    "(** 9. 파서를 이용하여 파일을 읽어들여 실행  *)\n",
    "(* interpret_from_file.ml , lexer.mll, parser.mly 참조. *)\n",
    "(* interpret_from_file.ml 컴파일 후 (e.g., ocamlbuild interpret_from_file.byte), 명령문 파일과 함께 실행. *)\n",
    "(* 실행 예) ./interpret_from_file.byte test1.calc *)\n",
    "(* 참고: ocamllex, ocamlyacc 은 lex, yacc (혹은 bison)과 거의 흡사한 lexer, parser generator. *)\n",
    "(* (https://caml.inria.fr/pub/docs/manual-ocaml-4.06/lexyacc.html) *)\n",
    "\n",
    "\n",
    "(** (실습 1.) Calc_v8 을 확장하여 나눗셈 연산과, 외부 입력으로부터 정수를 받는 READ 구문을 추가하세요 (read_int() 함수 사용) *)\n",
    "(** (실습 2.) Calc_v8 을 확장하여 함수가 임의의 갯수의 인자를 받을 수 있도록 하세요. *)\n"
   ]
  },
  {
   "cell_type": "code",
   "execution_count": 1,
   "metadata": {
    "scrolled": true
   },
   "outputs": [
    {
     "ename": "error",
     "evalue": "runtime_error",
     "output_type": "error",
     "traceback": [
      "\u001b[31mException: End_of_file.\nRaised at file \"pervasives.ml\", line 436, characters 20-31\nCalled from file \"pervasives.ml\", line 489, characters 31-44\nCalled from file \"toplevel/toploop.ml\", line 180, characters 17-56\n\u001b[0m"
     ]
    }
   ],
   "source": [
    "read_int();;"
   ]
  },
  {
   "cell_type": "code",
   "execution_count": null,
   "metadata": {},
   "outputs": [],
   "source": [
    "(** (실습 3.) Calc_v8 을 확장하여 SWITCH 구문을 추가하세요. \n",
    "    SWITCH (e, [(e1, e1'), (e2, e2'), ... (en, en')])\n",
    "\t\t의미: e의 결과가 e1 이면 e1' 실행, e2이면 e2'실행 ...  \n",
    "\t*)\n",
    "    "
   ]
  }
 ],
 "metadata": {
  "kernelspec": {
   "display_name": "OCaml 4.05.0",
   "language": "OCaml",
   "name": "ocaml-jupyter"
  },
  "language_info": {
   "codemirror_mode": "text/x-ocaml",
   "file_extension": ".ml",
   "mimetype": "text/x-ocaml",
   "name": "OCaml",
   "nbconverter_exporter": null,
   "pygments_lexer": "OCaml",
   "version": "4.05.0"
  }
 },
 "nbformat": 4,
 "nbformat_minor": 2
}
