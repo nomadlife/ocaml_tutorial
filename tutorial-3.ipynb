{
 "cells": [
  {
   "cell_type": "markdown",
   "metadata": {},
   "source": [
    "# 모듈 프로그래밍"
   ]
  },
  {
   "cell_type": "markdown",
   "metadata": {},
   "source": [
    "불변형 자료구조"
   ]
  },
  {
   "cell_type": "markdown",
   "metadata": {},
   "source": [
    "## Stack"
   ]
  },
  {
   "cell_type": "code",
   "execution_count": null,
   "metadata": {},
   "outputs": [],
   "source": [
    "module MyStack = struct\n",
    "type 'a stack =\n",
    "| Empty\n",
    "|Entry of 'a * 'a stack\n",
    "let empty = Empty\n",
    "let is_empty s=s=Empty\n",
    "let push x s = Entry (x,s)\n",
    "let peek = function\n",
    "\n",
    "|Empty -> failwith \"Empty\"\n",
    "|Entry(x,_) -> x\n",
    "let pop = function\n",
    "|Empty -> failwith \"Empty\"\n",
    "|Entry(_,s) -> s \n"
   ]
  },
  {
   "cell_type": "markdown",
   "metadata": {},
   "source": [
    "## List Stack"
   ]
  },
  {
   "cell_type": "code",
   "execution_count": null,
   "metadata": {},
   "outputs": [],
   "source": [
    "module ListStack = struct\n",
    "type 'a stack = 'a list\n",
    "let empty = []\n",
    "let is_empty = []\n",
    "let push x s = x :: s\n",
    "let peek = function\n",
    "|[] -> failwith \"Empty\"\n",
    "|x::_ -> x\n",
    "let pop = function \n",
    "| [] -> failwith \"Empty\"\n",
    "|_::xs -> xs \n",
    "end\n"
   ]
  },
  {
   "cell_type": "markdown",
   "metadata": {},
   "source": [
    "속내용 감추기 = 시그니쳐\n",
    "추상타입, \n",
    "모듈타입, mod 사용시, \n",
    "오구조건 만족 여벼ㅜ,\n",
    "실습 : 사전\n",
    "실습 : \n",
    "\n",
    "집합구현체\n",
    "elts 비용 아래가 비쌈 ?\n",
    "\n",
    "모듈타입\n",
    "MAP 사용 : \n",
    "타입 시그니쳐를 따르는 함수를 만들어서 모듈에 집어넣으면, 원하는 딕셔너리가 나온다고,,\n",
    "\n",
    "코드 재사용, 선형대수 "
   ]
  },
  {
   "cell_type": "markdown",
   "metadata": {},
   "source": [
    "algbra _ refac"
   ]
  },
  {
   "cell_type": "markdown",
   "metadata": {},
   "source": [
    "1. 달력 데이트 맵 모듈, 달력, 일정 넣기, \n",
    "2. 날짜 -> 이벤트, 이벤트 -> 일정\n",
    "3. 집합 / 대소문자 둔감 집합\n"
   ]
  },
  {
   "cell_type": "markdown",
   "metadata": {},
   "source": [
    "에러처리 \n",
    "\n",
    "리턴값에 에러 포함\n",
    "\n"
   ]
  },
  {
   "cell_type": "code",
   "execution_count": 2,
   "metadata": {},
   "outputs": [
    {
     "data": {
      "text/plain": [
       "- : int option = Some 3\n"
      ]
     },
     "execution_count": 2,
     "metadata": {},
     "output_type": "execute_result"
    }
   ],
   "source": [
    "List.nth_opt [1;2;3] 2;;"
   ]
  },
  {
   "cell_type": "code",
   "execution_count": 3,
   "metadata": {},
   "outputs": [
    {
     "data": {
      "text/plain": [
       "- : int option = None\n"
      ]
     },
     "execution_count": 3,
     "metadata": {},
     "output_type": "execute_result"
    }
   ],
   "source": [
    "List.nth_opt [1;2;3] 4;;"
   ]
  },
  {
   "cell_type": "code",
   "execution_count": 4,
   "metadata": {
    "scrolled": true
   },
   "outputs": [
    {
     "name": "stdout",
     "output_type": "stream",
     "text": [
      "1\n",
      "3\n",
      "0\n"
     ]
    },
    {
     "ename": "error",
     "evalue": "runtime_error",
     "output_type": "error",
     "traceback": [
      "\u001b[31mException: Division_by_zero.\nRaised by primitive operation at unknown location\nCalled from file \"list.ml\", line 67, characters 20-23\nCalled from file \"list.ml\", line 67, characters 32-39\nCalled from file \"list.ml\", line 67, characters 32-39\nCalled from file \"toplevel/toploop.ml\", line 180, characters 17-56\n\u001b[0m"
     ]
    }
   ],
   "source": [
    "List.map (fun x -> Printf.printf \"%d\\n%!\" x; 100 / x) [1;3;0;4];;"
   ]
  },
  {
   "cell_type": "code",
   "execution_count": 14,
   "metadata": {},
   "outputs": [
    {
     "ename": "error",
     "evalue": "compile_error",
     "output_type": "error",
     "traceback": [
      "\u001b[32mFile \"[14]\", line 1, characters 48-61:\n\u001b[31mError: This variant expression is expected to have type exn\n       The constructor Key_not_found does not belong to type exn\n\u001b[36m   1: \u001b[30mlet exceptions = [ Not_found; Division_by_zero; \u001b[4mKey_not_found\u001b[0m\u001b[30m \"b\" ];;\u001b[0m\n"
     ]
    }
   ],
   "source": [
    "let exceptions = [ Not_found; Division_by_zero; Key_not_found \"b\" ];;\n"
   ]
  },
  {
   "cell_type": "code",
   "execution_count": 12,
   "metadata": {},
   "outputs": [
    {
     "ename": "error",
     "evalue": "compile_error",
     "output_type": "error",
     "traceback": [
      "\u001b[32mFile \"[12]\", line 1, characters 22-35:\n\u001b[31mError: Unbound constructor Key_not_found\n\u001b[36m   1: \u001b[30mList.filter (function \u001b[4mKey_not_found\u001b[0m\u001b[30m _ | Not_found -> true | _ -> false) exceptions;;\u001b[0m\n"
     ]
    }
   ],
   "source": [
    "List.filter (function Key_not_found _ | Not_found -> true | _ -> false) exceptions;;\n"
   ]
  },
  {
   "cell_type": "markdown",
   "metadata": {},
   "source": [
    "예외"
   ]
  },
  {
   "cell_type": "code",
   "execution_count": 15,
   "metadata": {},
   "outputs": [
    {
     "ename": "error",
     "evalue": "compile_error",
     "output_type": "error",
     "traceback": [
      "\u001b[32mFile \"[15]\", line 2, characters 15-28:\n\u001b[31mError: This variant expression is expected to have type exn\n       The constructor Key_not_found does not belong to type exn\n\u001b[36m   1: \u001b[30mlet rec find_exn alist key = match alist with\n\u001b[36m   2: \u001b[30m| [] -> raise (\u001b[4mKey_not_found\u001b[0m\u001b[30m key)\n\u001b[36m   3: \u001b[30m| (key',data) :: tl -> if key = key' then data else find_exn tl key\u001b[0m\n"
     ]
    }
   ],
   "source": [
    "let rec find_exn alist key = match alist with\n",
    "| [] -> raise (Key_not_found key)\n",
    "| (key',data) :: tl -> if key = key' then data else find_exn tl key\n",
    ";;"
   ]
  },
  {
   "cell_type": "code",
   "execution_count": 17,
   "metadata": {},
   "outputs": [
    {
     "data": {
      "text/plain": [
       "val merge_lists : 'a list -> 'b list -> f:('a -> 'b -> 'c) -> 'c list option =\n",
       "  <fun>\n"
      ]
     },
     "execution_count": 17,
     "metadata": {},
     "output_type": "execute_result"
    },
    {
     "data": {
      "text/plain": [
       "- : int list option = Some [0; 3; 5]\n"
      ]
     },
     "execution_count": 17,
     "metadata": {},
     "output_type": "execute_result"
    }
   ],
   "source": [
    "let merge_lists xs ys ~f =\n",
    "if List.length xs <> List.length ys then None\n",
    "else\n",
    "let rec loop xs ys =\n",
    "match xs,ys with\n",
    "| [],[] -> []\n",
    "| x::xs, y::ys -> f x y :: loop xs ys\n",
    "| _ -> assert false\n",
    "in\n",
    "Some (loop xs ys)\n",
    ";;\n",
    "\n",
    "merge_lists [1;2;3] [-1;1;2] ~f:(+);;"
   ]
  },
  {
   "cell_type": "code",
   "execution_count": 19,
   "metadata": {},
   "outputs": [
    {
     "ename": "error",
     "evalue": "compile_error",
     "output_type": "error",
     "traceback": [
      "\u001b[32mFile \"[19]\", line 3, characters 11-19:\n\u001b[31mError: Unbound value find_exn\n\u001b[36m   2: \u001b[30mtry\n\u001b[36m   3: \u001b[30mlet data = \u001b[4mfind_exn\u001b[0m\u001b[30m alist key in\n\u001b[36m   4: \u001b[30mcompute_weight data\u001b[0m\n"
     ]
    }
   ],
   "source": [
    "let lookup_weight ~compute_weight alist key =\n",
    "try\n",
    "let data = find_exn alist key in\n",
    "compute_weight data\n",
    "with\n",
    "Not_found -> 0. ;;\n",
    "\n",
    "lookup_weight ~compute_weight:(fun _ -> raise Not_found)\n",
    "[\"a\",3; \"b\",4] \"a\" ;;\n"
   ]
  }
 ],
 "metadata": {
  "kernelspec": {
   "display_name": "OCaml 4.05.0",
   "language": "OCaml",
   "name": "ocaml-jupyter"
  },
  "language_info": {
   "codemirror_mode": "text/x-ocaml",
   "file_extension": ".ml",
   "mimetype": "text/x-ocaml",
   "name": "OCaml",
   "nbconverter_exporter": null,
   "pygments_lexer": "OCaml",
   "version": "4.05.0"
  }
 },
 "nbformat": 4,
 "nbformat_minor": 2
}
