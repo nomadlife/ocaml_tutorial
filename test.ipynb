{
 "cells": [
  {
   "cell_type": "markdown",
   "metadata": {},
   "source": [
    "# test"
   ]
  },
  {
   "cell_type": "code",
   "execution_count": null,
   "metadata": {},
   "outputs": [],
   "source": [
    "(* Problem 1 *)\n",
    "let rec fib : int -> int\n",
    "=fun n -> n (* TODO *)\n",
    "\n",
    "\n",
    "(* Problem 2 *)\n",
    "let rec lst2int : int list -> int\n",
    "=fun l -> 0 (* TODO *)\n",
    "\n",
    "\n",
    "(* Problem 3 *)\n",
    "let rec dropWhile : ('a -> bool) -> 'a list -> 'a list\n",
    "=fun p l -> l (* TODO *) \n",
    "\n",
    "\n",
    "(* Problem 4 *)\n",
    "type nat = ZERO | SUCC of nat\n",
    "\n",
    "let rec natadd : nat -> nat -> nat\n",
    "=fun n m -> ZERO (* TODO *)\n",
    "\n",
    "let rec natmul : nat -> nat -> nat\n",
    "=fun n m -> ZERO (* TODO *)\n",
    "\n",
    "\n",
    "(* Problem 5 *)\n",
    "type exp = X\n",
    "         | INT of int\n",
    "         | ADD of exp * exp\n",
    "         | SUB of exp * exp\n",
    "         | MUL of exp * exp\n",
    "         | DIV of exp * exp\n",
    "         | SIGMA of exp * exp * exp\n",
    "\n",
    "let rec calculator : exp -> int\n",
    "=fun e -> 0 (* TODO *)"
   ]
  },
  {
   "cell_type": "markdown",
   "metadata": {},
   "source": [
    "## 1"
   ]
  },
  {
   "cell_type": "code",
   "execution_count": 52,
   "metadata": {},
   "outputs": [
    {
     "data": {
      "text/plain": [
       "val fib : int -> int = <fun>\n"
      ]
     },
     "execution_count": 52,
     "metadata": {},
     "output_type": "execute_result"
    },
    {
     "data": {
      "text/plain": [
       "- : int = 0\n"
      ]
     },
     "execution_count": 52,
     "metadata": {},
     "output_type": "execute_result"
    }
   ],
   "source": [
    "let rec fib n = \n",
    "if n = 0 then 0 else fib (n-1);;\n",
    "\n",
    "fib 4;;"
   ]
  },
  {
   "cell_type": "code",
   "execution_count": null,
   "metadata": {},
   "outputs": [],
   "source": [
    "let rec fold_right f n a =\n",
    "match n with\n",
    "| 0 -> a\n",
    "| _ -> f (fold_right f n-1 a);;"
   ]
  },
  {
   "cell_type": "code",
   "execution_count": 1,
   "metadata": {},
   "outputs": [
    {
     "data": {
      "text/plain": [
       "val fold_right : ('a -> 'b -> 'b) -> 'a list -> 'b -> 'b = <fun>\n"
      ]
     },
     "execution_count": 1,
     "metadata": {},
     "output_type": "execute_result"
    }
   ],
   "source": [
    "let rec fold_right f l a =\n",
    "match l with\n",
    "| []-> a\n",
    "| hd::tl -> f hd (fold_right f tl a);;"
   ]
  },
  {
   "cell_type": "code",
   "execution_count": 44,
   "metadata": {},
   "outputs": [
    {
     "data": {
      "text/plain": [
       "val fib : int -> int = <fun>\n"
      ]
     },
     "execution_count": 44,
     "metadata": {},
     "output_type": "execute_result"
    },
    {
     "data": {
      "text/plain": [
       "- : int = 3\n"
      ]
     },
     "execution_count": 44,
     "metadata": {},
     "output_type": "execute_result"
    }
   ],
   "source": [
    "let rec fib n = \n",
    "if n = 0 then 0 else if n = 1 then 1 else fib (n-1) + fib (n-2);;\n",
    "\n",
    "fib 4;;"
   ]
  },
  {
   "cell_type": "code",
   "execution_count": 61,
   "metadata": {},
   "outputs": [
    {
     "data": {
      "text/plain": [
       "val fib : int -> int = <fun>\n"
      ]
     },
     "execution_count": 61,
     "metadata": {},
     "output_type": "execute_result"
    },
    {
     "data": {
      "text/plain": [
       "- : int = 3\n"
      ]
     },
     "execution_count": 61,
     "metadata": {},
     "output_type": "execute_result"
    }
   ],
   "source": [
    "let rec fib n = \n",
    "if n <= 1 then n else fib (n-1) + fib (n-2);;\n",
    "\n",
    "fib 4;;"
   ]
  },
  {
   "cell_type": "code",
   "execution_count": 60,
   "metadata": {},
   "outputs": [
    {
     "data": {
      "text/plain": [
       "val fib : int -> int = <fun>\n"
      ]
     },
     "execution_count": 60,
     "metadata": {},
     "output_type": "execute_result"
    },
    {
     "data": {
      "text/plain": [
       "- : int = 13\n"
      ]
     },
     "execution_count": 60,
     "metadata": {},
     "output_type": "execute_result"
    }
   ],
   "source": [
    "let rec fib n = \n",
    "match n with\n",
    "| 0 -> 0\n",
    "| 1 -> 1\n",
    "| _ -> fib (n-1) + fib (n-2);;\n",
    "\n",
    "fib 7;;"
   ]
  },
  {
   "cell_type": "code",
   "execution_count": 64,
   "metadata": {},
   "outputs": [
    {
     "data": {
      "text/plain": [
       "val fib : int -> int = <fun>\n"
      ]
     },
     "execution_count": 64,
     "metadata": {},
     "output_type": "execute_result"
    },
    {
     "data": {
      "text/plain": [
       "- : int = 13\n"
      ]
     },
     "execution_count": 64,
     "metadata": {},
     "output_type": "execute_result"
    }
   ],
   "source": [
    "let rec fib n = \n",
    "match n with\n",
    "| 0 | 1 -> n\n",
    "| _ -> fib (n-1) + fib (n-2);;\n",
    "\n",
    "fib 7;;"
   ]
  },
  {
   "cell_type": "markdown",
   "metadata": {},
   "source": [
    "## 2"
   ]
  },
  {
   "cell_type": "code",
   "execution_count": null,
   "metadata": {},
   "outputs": [],
   "source": [
    "(* Problem 2 *)\n",
    "let rec lst2int : int list -> int\n",
    "=fun l -> 0 (* TODO *)"
   ]
  },
  {
   "cell_type": "code",
   "execution_count": 21,
   "metadata": {},
   "outputs": [
    {
     "data": {
      "text/plain": [
       "val lst2int : 'a list -> 'a list = <fun>\n"
      ]
     },
     "execution_count": 21,
     "metadata": {},
     "output_type": "execute_result"
    },
    {
     "data": {
      "text/plain": [
       "- : int list = [1; 2; 3]\n"
      ]
     },
     "execution_count": 21,
     "metadata": {},
     "output_type": "execute_result"
    }
   ],
   "source": [
    "let rec lst2int \n",
    "  = fun lst -> match lst with\n",
    "  | [] -> []\n",
    "  | hd::tl -> hd::(lst2int tl);;\n",
    "  \n",
    "lst2int [1;2;3];;"
   ]
  },
  {
   "cell_type": "code",
   "execution_count": 54,
   "metadata": {},
   "outputs": [
    {
     "data": {
      "text/plain": [
       "val lst2int : int list -> string = <fun>\n"
      ]
     },
     "execution_count": 54,
     "metadata": {},
     "output_type": "execute_result"
    },
    {
     "data": {
      "text/plain": [
       "- : string = \"123\"\n"
      ]
     },
     "execution_count": 54,
     "metadata": {},
     "output_type": "execute_result"
    }
   ],
   "source": [
    "let rec lst2int \n",
    "= fun lst -> match lst with\n",
    "  | [] -> \"\"\n",
    "  | [a] -> string_of_int a\n",
    "  | hd::tl -> (string_of_int hd)^(lst2int tl);;\n",
    "  \n",
    "lst2int [1;2;3];;"
   ]
  },
  {
   "cell_type": "markdown",
   "metadata": {},
   "source": [
    "## 3"
   ]
  },
  {
   "cell_type": "code",
   "execution_count": null,
   "metadata": {},
   "outputs": [],
   "source": [
    "(* Problem 3 *)\n",
    "let rec dropWhile : ('a -> bool) -> 'a list -> 'a list\n",
    "=fun p l -> l (* TODO *) "
   ]
  },
  {
   "cell_type": "code",
   "execution_count": 30,
   "metadata": {},
   "outputs": [
    {
     "data": {
      "text/plain": [
       "val dropWhile : ('a -> bool) -> 'a list -> 'a list = <fun>\n"
      ]
     },
     "execution_count": 30,
     "metadata": {},
     "output_type": "execute_result"
    },
    {
     "data": {
      "text/plain": [
       "- : int list = [7; 9]\n"
      ]
     },
     "execution_count": 30,
     "metadata": {},
     "output_type": "execute_result"
    },
    {
     "data": {
      "text/plain": [
       "- : int list = [7; 8; 9]\n"
      ]
     },
     "execution_count": 30,
     "metadata": {},
     "output_type": "execute_result"
    },
    {
     "data": {
      "text/plain": [
       "- : int list = [1; 3; 7]\n"
      ]
     },
     "execution_count": 30,
     "metadata": {},
     "output_type": "execute_result"
    }
   ],
   "source": [
    "let rec dropWhile : ('a -> bool) -> 'a list -> 'a list\n",
    "=fun f l ->\n",
    "match l with\n",
    "| [] -> []\n",
    "| hd::tl -> if f hd then dropWhile f tl else hd::tl;;\n",
    "\n",
    "dropWhile (fun x -> x mod 2 = 0) [2;4;7;9];;\n",
    "dropWhile (fun x -> x mod 2 = 0) [2;4;7;8;9];;\n",
    "dropWhile (fun x -> x > 5) [1;3;7];;"
   ]
  },
  {
   "cell_type": "code",
   "execution_count": null,
   "metadata": {},
   "outputs": [],
   "source": [
    "let rec filter p l =\n",
    "match l with\n",
    "|[] -> []\n",
    "|hd::tl -> if p hd then hd::(filter p tl) else filter p tl;;"
   ]
  },
  {
   "cell_type": "markdown",
   "metadata": {},
   "source": [
    "## 4"
   ]
  },
  {
   "cell_type": "code",
   "execution_count": null,
   "metadata": {},
   "outputs": [],
   "source": [
    "(* Problem 4 *)\n",
    "type nat = ZERO | SUCC of nat\n",
    "\n",
    "let rec natadd : nat -> nat -> nat\n",
    "=fun n m -> ZERO (* TODO *)\n",
    "\n",
    "let rec natmul : nat -> nat -> nat\n",
    "=fun n m -> ZERO (* TODO *)"
   ]
  },
  {
   "cell_type": "code",
   "execution_count": null,
   "metadata": {},
   "outputs": [],
   "source": [
    "# let two = SUCC (SUCC ZERO);;\n",
    "val two : nat = SUCC (SUCC ZERO)\n",
    "\n",
    "# let three = SUCC (SUCC (SUCC ZERO));;\n",
    "val three : nat = SUCC (SUCC (SUCC ZERO))\n",
    "\n",
    "# natmul two three;;\n",
    "- : nat = SUCC (SUCC (SUCC (SUCC (SUCC (SUCC ZERO)))))\n",
    "\n",
    "# natadd two three;;\n",
    "- : nat = SUCC (SUCC (SUCC (SUCC (SUCC ZERO))))"
   ]
  },
  {
   "cell_type": "code",
   "execution_count": null,
   "metadata": {},
   "outputs": [],
   "source": [
    "type nat = ZERO | SUCC of nat\n",
    "\n",
    "let rec natadd : nat -> nat -> nat\n",
    "=fun n m -> ZERO\n",
    "\n",
    "let rec natmul : nat -> nat -> nat\n",
    "=fun n m -> ZERO"
   ]
  },
  {
   "cell_type": "code",
   "execution_count": 32,
   "metadata": {},
   "outputs": [
    {
     "ename": "error",
     "evalue": "compile_error",
     "output_type": "error",
     "traceback": [
      "\u001b[32mFile \"[32]\", line 1, characters 10-14:\n\u001b[31mError: Unbound constructor SUCC\n\u001b[36m   1: \u001b[30mlet two = \u001b[4mSUCC\u001b[0m\u001b[30m (SUCC ZERO);;\u001b[0m\n"
     ]
    }
   ],
   "source": [
    "let two = SUCC (SUCC ZERO);;"
   ]
  },
  {
   "cell_type": "code",
   "execution_count": null,
   "metadata": {},
   "outputs": [],
   "source": [
    "let rec natmul : nat\n",
    "= fun e1 e2 -> \n",
    "match e1,e2 with\n",
    "| _,ZERO \n",
    "\n"
   ]
  },
  {
   "cell_type": "code",
   "execution_count": null,
   "metadata": {},
   "outputs": [],
   "source": [
    "let double f = fun x -> f(f(x));;"
   ]
  },
  {
   "cell_type": "markdown",
   "metadata": {},
   "source": [
    "## 5"
   ]
  },
  {
   "cell_type": "code",
   "execution_count": 53,
   "metadata": {},
   "outputs": [
    {
     "ename": "error",
     "evalue": "compile_error",
     "output_type": "error",
     "traceback": [
      "\u001b[32mFile \"[53]\", line 3, characters 9-10:\n\u001b[31mError: Syntax error\n\u001b[36m   2: \u001b[30mtype exp = exp\n\u001b[36m   3: \u001b[30m         \u001b[4m|\u001b[0m\u001b[30m INT of int\n\u001b[36m   4: \u001b[30m         | ADD of exp * exp\u001b[0m\n"
     ]
    }
   ],
   "source": [
    "(* Problem 5 *)\n",
    "type exp = exp\n",
    "         | INT of int\n",
    "         | ADD of exp * exp\n",
    "         | SUB of exp * exp\n",
    "         | MUL of exp * exp\n",
    "         | DIV of exp * exp\n",
    "         | SIGMA of exp * exp * exp\n",
    "\n",
    "let rec calculator : exp -> int\n",
    "  = fun e -> \n",
    "match e with \n",
    "  | INT n -> n\n",
    "  | ADD (e1, e2) -> (calculator e1) + (calculator e2)\n",
    "  | SUB (e1, e2) -> (calculator e1) - (calculator e2)\n",
    "  | MUL (e1, e2) -> (calculator e1) * (calculator e2)\n",
    "  | DIV (e1, e2) -> (calculator e1) / (calculator e2)\n",
    "  | SIGMA (e1, e2, e3) -> \n",
    "  if e1 = e2 then (calculator e2) \n",
    "  else (calculator e3) + SIGMA (e1+1) e2 e3"
   ]
  },
  {
   "cell_type": "code",
   "execution_count": 48,
   "metadata": {},
   "outputs": [
    {
     "data": {
      "text/plain": [
       "- : exp = SIGMA (INT 1, INT 10, SUB (MUL (X, X), INT 1))\n"
      ]
     },
     "execution_count": 48,
     "metadata": {},
     "output_type": "execute_result"
    }
   ],
   "source": [
    "SIGMA(INT 1, INT 10, SUB(MUL(X, X), INT 1));;"
   ]
  },
  {
   "cell_type": "code",
   "execution_count": null,
   "metadata": {},
   "outputs": [],
   "source": [
    "let rec sigma f a b = \n",
    "if a = b then f a \n",
    "else (f a) + (sigma f (a+1) b);;\n",
    "\n",
    "sigma(fun x -> x) 1 100;;"
   ]
  }
 ],
 "metadata": {
  "kernelspec": {
   "display_name": "OCaml 4.05.0",
   "language": "OCaml",
   "name": "ocaml-jupyter"
  },
  "language_info": {
   "codemirror_mode": "text/x-ocaml",
   "file_extension": ".ml",
   "mimetype": "text/x-ocaml",
   "name": "OCaml",
   "nbconverter_exporter": null,
   "pygments_lexer": "OCaml",
   "version": "4.05.0"
  }
 },
 "nbformat": 4,
 "nbformat_minor": 2
}
