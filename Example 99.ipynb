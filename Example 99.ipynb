{
 "cells": [
  {
   "cell_type": "markdown",
   "metadata": {},
   "source": [
    "test"
   ]
  },
  {
   "cell_type": "markdown",
   "metadata": {},
   "source": [
    "Ocaml example 99"
   ]
  },
  {
   "cell_type": "markdown",
   "metadata": {},
   "source": [
    "[\"a\";\"b\";\"c\";\"d\"]\n"
   ]
  },
  {
   "cell_type": "code",
   "execution_count": 9,
   "metadata": {
    "scrolled": true
   },
   "outputs": [
    {
     "data": {
      "text/plain": [
       "val last : 'a list -> 'a option = <fun>\n"
      ]
     },
     "execution_count": 9,
     "metadata": {},
     "output_type": "execute_result"
    },
    {
     "data": {
      "text/plain": [
       "- : string option = Some \"d\"\n"
      ]
     },
     "execution_count": 9,
     "metadata": {},
     "output_type": "execute_result"
    },
    {
     "data": {
      "text/plain": [
       "- : 'a option = None\n"
      ]
     },
     "execution_count": 9,
     "metadata": {},
     "output_type": "execute_result"
    }
   ],
   "source": [
    "(* 01 *)\n",
    "let rec last = function\n",
    "|[]->None\n",
    "|[x]->Some x\n",
    "|_::t -> last t;;\n",
    "\n",
    "last [\"a\";\"b\";\"c\";\"d\"];;\n",
    "last [];;"
   ]
  },
  {
   "cell_type": "code",
   "execution_count": 10,
   "metadata": {
    "scrolled": true
   },
   "outputs": [
    {
     "ename": "error",
     "evalue": "compile_error",
     "output_type": "error",
     "traceback": [
      "\u001b[32mFile \"[10]\", line 3, characters 0-1:\n\u001b[31mError: Syntax error\n\u001b[36m   2: \u001b[30mlet rec last =\n\u001b[36m   3: \u001b[30m\u001b[4m|\u001b[0m\u001b[30m[]->None\n\u001b[36m   4: \u001b[30m|[x]->Some x\u001b[0m\n"
     ]
    }
   ],
   "source": [
    "(* 01 *)\n",
    "let rec last =\n",
    "|[]->None\n",
    "|[x]->Some x\n",
    "|_::t -> last t;;\n",
    "\n",
    "last [\"a\";\"b\";\"c\";\"d\"];;\n",
    "last [];;"
   ]
  }
 ],
 "metadata": {
  "kernelspec": {
   "display_name": "OCaml 4.05.0",
   "language": "OCaml",
   "name": "ocaml-jupyter"
  },
  "language_info": {
   "codemirror_mode": "text/x-ocaml",
   "file_extension": ".ml",
   "mimetype": "text/x-ocaml",
   "name": "OCaml",
   "nbconverter_exporter": null,
   "pygments_lexer": "OCaml",
   "version": "4.05.0"
  }
 },
 "nbformat": 4,
 "nbformat_minor": 2
}
